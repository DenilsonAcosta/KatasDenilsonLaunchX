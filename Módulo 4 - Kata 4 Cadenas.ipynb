{
  "cells": [
    {
      "cell_type": "markdown",
      "metadata": {},
      "source": [
        "# Kata 4 - Cadenas"
      ]
    },
    {
      "cell_type": "markdown",
      "metadata": {},
      "source": [
        "## Ejercicio 1"
      ]
    },
    {
      "cell_type": "code",
      "execution_count": 10,
      "metadata": {},
      "outputs": [],
      "source": [
        "# En este ejercicio, usarás métodos de cadena para modificar el texto con hechos sobre la Luna y luego extraerás información para crear un breve resumen.\n",
        "# \"\"\"Interesting facts about the Moon. The Moon is Earth's only satellite. There are several interesting facts about the Moon and how it affects life here on Earth. \n",
        "# On average, the Moon moves 4cm away from the Earth every year. This yearly drift is not significant enough to cause immediate effects on Earth. \n",
        "# The highest daylight temperature of the Moon is 127 C.\"\"\""
      ]
    },
    {
      "cell_type": "code",
      "execution_count": null,
      "metadata": {},
      "outputs": [],
      "source": [
        "text_parts = '''Interesting facts about the Moon. \n",
        "The Moon is Earth\"s only satellite. \n",
        "There are several interesting facts about the Moon and how it affects life here on Earth.\n",
        "On average, the Moon moves 4cm away from the Earth every year. \n",
        "This yearly drift is not significant enough to cause immediate effects on Earth. \n",
        "The highest daylight temperature of the Moon is 127 C. '''\n",
        "text_parts.split('.')\n",
        "key_words = [\"average\", \"temperature\", \"distance\"]\n",
        "for sentence in text_parts:\n",
        "    for key_word in key_words:\n",
        "        if key_word in sentence:\n",
        "            print(sentence)\n",
        "            break\n",
        "for sentence in text_parts:\n",
        "    for key_word in key_words:\n",
        "        if key_word in sentence:\n",
        "            print(sentence.replace(' C', ' Celsius'))\n",
        "        break\n"
      ]
    },
    {
      "cell_type": "markdown",
      "metadata": {},
      "source": [
        "## Ejercicio 2"
      ]
    },
    {
      "cell_type": "code",
      "execution_count": null,
      "metadata": {},
      "outputs": [],
      "source": [
        "# En este ejercicio, se utilizan variables que contienen datos clave sobre la gravedad en varias lunas y luego se utilizan \n",
        "# para dar formato e imprimir la información.\n",
        "# En lugar de reemplazar las variables en una cadena larga como parte de un párrafo, utiliza la información para presentarla\n",
        "# en un formato tabular. El resultado debería verse así:\n",
        "# Gravity Facts about Ganymede\n",
        "# -------------------------------------------------------------------------------\n",
        "# Planet Name: Mars\n",
        "# Gravity on Ganymede: 1.4300000000000002 m/s2\n",
        "# Primero, crea un título para el texto. Debido a que este texto trata sobre la gravedad en la Tierra y la Luna, \n",
        "# úsalo para crear un título significativo. Utiliza las variables en lugar de escribir.\n",
        "# Ahora crea una plantilla de cadena multilínea para contener el resto de la información. En lugar de usar kilómetros, \n",
        "# debes convertir la distancia a metros multiplicando por 1,000.\n",
        "# Ahora usa información de una luna diferente para ver si la plantilla todavía funciona.\n",
        "# Datos muestra: \n",
        "#planeta = 'Marte '\n",
        "#gravedad  = 0.00143\n",
        "#nombre = 'Ganímedes'\n",
        "# Asegúrese de que la operación se realiza fuera de la plantilla de formato e imprima de nuevo para ver el resultado de trabajo."
      ]
    },
    {
      "cell_type": "code",
      "execution_count": null,
      "metadata": {},
      "outputs": [
        {
          "name": "stdout",
          "output_type": "stream",
          "text": [
            "-------------------------------------------------------------------------------- \n",
            "Nombre del planeta: Luna \n",
            "Gravedad en Tierra: 1.6199999999999999 m/s2 \n",
            "\n",
            "-------------------------------------------------------------------------------- \n",
            "Nombre del planeta: Luna \n",
            "Gravedad en Tierra: 1.6199999999999999 m/s2 \n",
            "\n",
            "\n",
            "Datos de Gravedad sobre: Tierra\n",
            "-------------------------------------------------------------------------------\n",
            "Nombre del planeta: Luna \n",
            "Gravedad en Tierra: 0.00162 m/s2\n",
            "-------------------------------------------------------------------------------\n",
            "\n",
            "\n",
            "Datos de Gravedad sobre: Tierra\n",
            "-------------------------------------------------------------------------------\n",
            "Nombre del planeta: Luna \n",
            "Gravedad en Tierra: 1.6199999999999999 m/s2\n",
            "-------------------------------------------------------------------------------\n",
            "\n"
          ]
        }
      ],
      "source": [
        "planeta = 'Luna'\n",
        "gravedad  = 0.00162\n",
        "nombrePlaneta = 'Tierra'\n",
        "titulo = f'Datos de gravedad sobre {nombrePlaneta}'\n",
        "hechos = f\"\"\"{'-'*80} \n",
        "Nombre del planeta: {planeta} \n",
        "Gravedad en {nombrePlaneta}: {gravedad * 1000} m/s2 \n",
        "\"\"\"\n",
        "template = f\"\"\"{titulo.title()} \n",
        "{hechos} \n",
        "\"\"\" \n",
        "print(hechos)\n",
        "\n",
        "planeta = 'Luna '\n",
        "gravedad  = 0.00162\n",
        "nombrePlaneta = 'Tierra'\n",
        "\n",
        "print(hechos)\n",
        "\n",
        "new_template = \"\"\"\n",
        "Datos de Gravedad sobre: {nombre}\n",
        "-------------------------------------------------------------------------------\n",
        "Nombre del planeta: {planeta}\n",
        "Gravedad en {nombre}: {gravedad} m/s2\n",
        "-------------------------------------------------------------------------------\n",
        "\"\"\"\n",
        "print(new_template.format(nombre=nombrePlaneta, planeta=planeta, gravedad=gravedad))\n",
        "print(new_template.format(nombre=nombrePlaneta, planeta=planeta, gravedad=gravedad*1000))"
      ]
    }
  ],
  "metadata": {
    "interpreter": {
      "hash": "502cd6c3b6c9e666d195e1caff9d64ea12bf644e547a4c8fae84812082c54b6f"
    },
    "kernel_info": {
      "name": "conda-env-py37_default-py"
    },
    "kernelspec": {
      "display_name": "py37_default",
      "language": "python",
      "name": "python3"
    },
    "language_info": {
      "codemirror_mode": {
        "name": "ipython",
        "version": 3
      },
      "file_extension": ".py",
      "mimetype": "text/x-python",
      "name": "python",
      "nbconvert_exporter": "python",
      "pygments_lexer": "ipython3",
      "version": "3.10.2"
    },
    "nteract": {
      "version": "nteract-front-end@1.0.0"
    },
    "orig_nbformat": 4
  },
  "nbformat": 4,
  "nbformat_minor": 2
}
