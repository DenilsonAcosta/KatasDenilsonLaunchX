{
  "cells": [
    {
      "cell_type": "markdown",
      "metadata": {},
      "source": [
        "# Ejercicio1 - Utilizar operadores aritméticos"
      ]
    },
    {
      "cell_type": "code",
      "execution_count": null,
      "metadata": {},
      "outputs": [],
      "source": [
        "# Exploremos cómo podemos crear un programa que pueda calcular la distancia entre dos planetas.  \n",
        "# Comenzaremos usando dos distancias de planetas: Tierra (149.597.870 km) y Júpiter (778.547.200 km).\n",
        "#  Crear variables para almacenar las dos distancias\n",
        "# ¡Asegúrate de quitar las comas!\n",
        "\n",
        "# Restarás el primer planeta del segundo para determinar la distancia en kilómetros.\n",
        "# A continuación, puedes convertir la distancia del kilómetro en millas multiplicándola por 0.621.\n",
        "\n",
        "## Con el código creado, ejecuta el notebook para obtener el resultado. Deberías recibir lo siguiente:\n",
        "#628949330\n",
        "#390577534"
      ]
    },
    {
      "cell_type": "code",
      "execution_count": 6,
      "metadata": {},
      "outputs": [
        {
          "name": "stdout",
          "output_type": "stream",
          "text": [
            "628949330 km\n",
            "390577533.93 millas\n"
          ]
        }
      ],
      "source": [
        "tierra =  149597870\n",
        "jupiter = 778547200\n",
        "distancia_planetas = jupiter - tierra\n",
        "millas = 0.621 \n",
        "print (distancia_planetas, 'km')\n",
        "print(distancia_planetas*millas,'millas')\n",
        "\n"
      ]
    },
    {
      "cell_type": "code",
      "execution_count": null,
      "metadata": {},
      "outputs": [],
      "source": [
        "## Ejercicio 2: convierte cadenas en números y usa valores absolutos\n",
        "\n",
        "#Convertir los valores de cadena en números para realizar correctamente diferentes operaciones o determinar el valor absoluto de un número.\n",
        "#Crear nuestra aplicación, queremos leer la distancia del sol para dos planetas, y luego mostrar la distancia entre los planetas.\n",
        "#Convierte las cadenas de ambos planetas a números enteros\n",
        "#Con los valores almacenados como números, ahora puedes agregar el código para realizar el cálculo, restando el primer planeta del segundo.\n",
        "#Debido a que el segundo planeta podría ser un número mayor, usarás `abs` para convertirlo a un valor absoluto. También agregarás el código \n",
        "#para mostrar el resultado en millas multiplicando la distancia del kilómetro por 0.621"
      ]
    },
    {
      "cell_type": "markdown",
      "metadata": {},
      "source": [
        "### Tabla de planetas y su distancias al sol \n",
        "Utiliza los datos de la tabla siguiente:\n",
        "\n",
        "| Planeta  | Distancia al sol |\n",
        "| ------- | ----------------- |\n",
        "| Mercurio | 57900000          |\n",
        "| Venus   | 108200000         |\n",
        "| Tierra   | 149600000         |\n",
        "| Marte    | 227900000         |\n",
        "| Júpiter | 778600000         |\n",
        "| Saturno  | 1433500000        |\n",
        "| Urano  | 2872500000        |\n",
        "| Neptuno | 4495100000        |"
      ]
    },
    {
      "cell_type": "code",
      "execution_count": 17,
      "metadata": {},
      "outputs": [
        {
          "name": "stdout",
          "output_type": "stream",
          "text": [
            "La distancia resultante entre el planeta Mercurio y el planeta Venus es:\n",
            "-50300000 km\n",
            "La distancia entre planetas en valor absoluto\n",
            "50300000 km\n",
            "Distancia convertida en millas es:\n",
            "31236300.0 millas\n"
          ]
        }
      ],
      "source": [
        "millas = 0.621\n",
        "nomPlanetaUno = input('Nombre del primer planeta')\n",
        "nomPlanetaDos = input('Nombre del segundo Planeta')\n",
        "planetaUno = input('Utilizando la tabla de arriba introduzca la distancia del primer planeta')\n",
        "planetaDos = input('introduzca la distancia del segundo planeta')\n",
        "planetaInt = (int(planetaUno)- int(planetaDos))\n",
        "print('La distancia resultante entre el planeta', nomPlanetaUno,'y el planeta', nomPlanetaDos, 'es:')\n",
        "print (planetaInt, 'km')\n",
        "print('La distancia entre planetas en valor absoluto')\n",
        "print(abs(planetaInt),'km')\n",
        "print('Distancia convertida en millas es:')\n",
        "print(abs(planetaInt * millas), 'millas')\n"
      ]
    }
  ],
  "metadata": {
    "interpreter": {
      "hash": "502cd6c3b6c9e666d195e1caff9d64ea12bf644e547a4c8fae84812082c54b6f"
    },
    "kernel_info": {
      "name": "conda-env-py37_default-py"
    },
    "kernelspec": {
      "display_name": "py37_default",
      "language": "python",
      "name": "python3"
    },
    "language_info": {
      "codemirror_mode": {
        "name": "ipython",
        "version": 3
      },
      "file_extension": ".py",
      "mimetype": "text/x-python",
      "name": "python",
      "nbconvert_exporter": "python",
      "pygments_lexer": "ipython3",
      "version": "3.10.2"
    },
    "nteract": {
      "version": "nteract-front-end@1.0.0"
    },
    "orig_nbformat": 4
  },
  "nbformat": 4,
  "nbformat_minor": 2
}
