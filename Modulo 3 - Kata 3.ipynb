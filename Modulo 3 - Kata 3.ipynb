{
 "cells": [
  {
   "cell_type": "markdown",
   "metadata": {},
   "source": [
    "# Modulo 3 - Kata 3 Logíca Boleana"
   ]
  },
  {
   "cell_type": "code",
   "execution_count": 15,
   "metadata": {},
   "outputs": [
    {
     "name": "stdout",
     "output_type": "stream",
     "text": [
      "Continua con tus actividades\n"
     ]
    }
   ],
   "source": [
    "##EJERCICIO 1\n",
    "#Para este ejercicio, escribirás una lógica condicional que imprima una advertencia si un asteroide se acerca a la Tierra\n",
    "# demasiado rápido. La velocidad del asteroide varía dependiendo de lo cerca que esté del sol, \n",
    "# y cualquier velocidad superior a 25 kilómetros por segundo (km/s) merece una advertencia.\n",
    "#Un asteroide se acerca, y viaja a una velocidad de 49 km/s.\n",
    "\n",
    "a = 49\n",
    "b = 25\n",
    "if a > b:\n",
    "    #Instruccion de ejecucion\n",
    "    print(\"!Cuidado un asteroide se aproxima peligrosamente!\")\n",
    "else:\n",
    "    print(\"Continua con tus actividades\")\n"
   ]
  },
  {
   "cell_type": "code",
   "execution_count": 19,
   "metadata": {},
   "outputs": [
    {
     "name": "stdout",
     "output_type": "stream",
     "text": [
      "Busca en el cielo un rayo de luz, un asteroide se esta quemando c:\n"
     ]
    }
   ],
   "source": [
    "##Ejercicio 2\n",
    "#Si un asteroide entra en la atmósfera de la Tierra a una velocidad mayor o igual a 20 km/s, a veces produce un rayo de luz \n",
    "# que se puede ver desde la Tierra. Escribe la lógica condicional que usa declaraciones if, else, y elif para alertar a las \n",
    "# personas de todo el mundo que deben buscar un asteroide en el cielo. \n",
    "# ¡Hay uno que se dirige a la tierra ahora a una velocidad de 19 km/s!\n",
    "\n",
    "a = 19\n",
    "b = 20\n",
    "if a > b:\n",
    "    print(\"Busca en el cielo un rayo de luz, un asteroide se esta quemando c:\")\n",
    "elif a == b:\n",
    "    print(\"Un asteroide se dirige a la tierra, disfruta del rayo de luz\")\n",
    "else:\n",
    "    print(\"No hay ninguna actividad importante\") \n"
   ]
  },
  {
   "cell_type": "code",
   "execution_count": 23,
   "metadata": {},
   "outputs": [
    {
     "name": "stdout",
     "output_type": "stream",
     "text": [
      "ALERTA DE IMPACTO SE ACERCA UN ASTEROIDE PELIGROSO\n"
     ]
    }
   ],
   "source": [
    "##Ejercicio 3\n",
    "#*Los asteroides de menos de 25 metros en su dimensión más grande probablemente se quemarán a medida que entren en la atmósfera\n",
    "# de la Tierra. Si una pieza de un asteroide que es más grande que 25 metros pero más pequeña que 1000 metros golpeara la Tierra,\n",
    "# causaría mucho daño.\n",
    "#*La velocidad del asteroide varía en función de lo cerca que esté del sol, y cualquier velocidad superior a 25 kilómetros por segundo\n",
    "# (km/s) merece una advertencia.\n",
    "#*Si un asteroide entra en la atmósfera de la Tierra a una velocidad mayor o igual a 20 km/s, a veces produce un rayo de luz que se puede\n",
    "# ver desde la Tierra\n",
    "\n",
    "velocidad = 30\n",
    "dimension = 20\n",
    "if dimension < 25 and velocidad >= 25:\n",
    "    print(\"CUIDADO ¡Se aproxima un asteroide a la tierra! Tranquilo este se quemara a medida que entra la atmosfera disfruta el rayo de luz\")\n",
    "elif dimension > 25 or velocidad  > 25:\n",
    "    print(\"ALERTA DE IMPACTO SE ACERCA UN ASTEROIDE PELIGROSO\")\n",
    "else:\n",
    "    print(\"Siga con sus actividades cotidianas\")\n",
    "    \n"
   ]
  }
 ],
 "metadata": {
  "interpreter": {
   "hash": "94dfd0829861ea723591b3001b7b8d6efd29c21741fffd6b6a162c01382c010b"
  },
  "kernelspec": {
   "display_name": "Python 3.10.2 64-bit",
   "language": "python",
   "name": "python3"
  },
  "language_info": {
   "codemirror_mode": {
    "name": "ipython",
    "version": 3
   },
   "file_extension": ".py",
   "mimetype": "text/x-python",
   "name": "python",
   "nbconvert_exporter": "python",
   "pygments_lexer": "ipython3",
   "version": "3.10.2"
  },
  "orig_nbformat": 4
 },
 "nbformat": 4,
 "nbformat_minor": 2
}
