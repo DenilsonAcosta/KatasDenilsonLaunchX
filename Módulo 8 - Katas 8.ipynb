{
  "cells": [
    {
      "cell_type": "markdown",
      "metadata": {},
      "source": [
        "# Kata 8: Creación de diccionarios de Python\n",
        "## Ejercicio 1"
      ]
    },
    {
      "cell_type": "code",
      "execution_count": null,
      "metadata": {},
      "outputs": [],
      "source": [
        "# Los diccionarios son una colección de pares clave/valor, y son muy comunes en los programas Python. \n",
        "# Su flexibilidad le permite trabajar dinámicamente con valores relacionados sin tener que crear clases u objetos.\n",
        "# Un diccionario se indica en Python mediante el uso de llaves (`{ }`), con pares clave/valor separados por dos puntos (`:`).\n",
        "# Las claves son literales de cadena y los valores pueden ser de cualquier tipo de datos.{ }:\n",
        "# Para recuperar valores, puede utilizar el método  `get` o corchetes (`[ ]`) con el nombre de la clave que desea recuperar.\n",
        "# Puedes actualizar las claves existentes o crear otras nuevas utilizando el método `update` o entre corchetes (`[ ]`). \n",
        "# Cuando se usa `update`, se pasa un nuevo objeto de diccionario con los valores actualizados o nuevos. \n",
        "# Cuando se usan corchetes, se especifica el nombre de la clave y se asigna un nuevo valor.\n",
        "# Agrega un nuevo valor con una clave de 'circunferencia (km)'. \n",
        "# Este nuevo valor debería almacenar un diccionario con las dos circunferencias del planeta:\n",
        "# polar: 6752 -> equatorial: 6792"
      ]
    },
    {
      "cell_type": "code",
      "execution_count": 18,
      "metadata": {},
      "outputs": [
        {
          "name": "stdout",
          "output_type": "stream",
          "text": [
            "El planeta es: Mars 2\n",
            "Tierra tiene una circunferencia polar de 6752\n",
            "Tierra tiene una circunferencia equatorial de 6792\n"
          ]
        }
      ],
      "source": [
        "planet = { \n",
        "    'name' : 'Mars',\n",
        "    'moons' : 2\n",
        "    }\n",
        "print('El planeta es:',planet.get('name'), planet.get('moons'))\n",
        "planet.update({'name' : 'Tierra'})\n",
        "#print(planet.get('name'))\n",
        "planet['circunferencia (km)'] = {\n",
        "    'polar' : 6752,\n",
        "    'equatorial' : 6792\n",
        "}\n",
        "print(f'{planet[\"name\"]} tiene una circunferencia polar de {planet[\"circunferencia (km)\"][\"polar\"]}')\n",
        "print(f'{planet[\"name\"]} tiene una circunferencia equatorial de {planet[\"circunferencia (km)\"][\"equatorial\"]}')\n",
        "\n"
      ]
    },
    {
      "cell_type": "markdown",
      "metadata": {},
      "source": [
        "## Ejercicio 2"
      ]
    },
    {
      "cell_type": "code",
      "execution_count": null,
      "metadata": {},
      "outputs": [],
      "source": [
        "# utilizando los métodos `values` y `keys`, respectivamente. Cada método devuelve una lista que contiene los datos,\n",
        "# Que luego se puede usar como una lista normal de Python. Puedes determinar el número de elementos mediante `len`, \n",
        "# e iterar a través de él mediante un ciclo `for`.\n",
        "# Comienza almacenando el valor `values` de `planet_moons` en una variable denominada `moons`. A continuación, \n",
        "# almacena el número de planetas en una variable denominada `planets`.\n",
        "# creando un ciclo `for` para iterar a través de las lunas `moons` y agregándolos a una variable denominada `total_moons`. \n",
        "# Finalmente calcule el promedio dividiendo `total_moons` por `planets` e imprimiendo los resultados."
      ]
    },
    {
      "cell_type": "code",
      "execution_count": 24,
      "metadata": {},
      "outputs": [
        {
          "name": "stdout",
          "output_type": "stream",
          "text": [
            "0 Total de lunas\n",
            "0 Total de lunas\n",
            "1 Total de lunas\n",
            "3 Total de lunas\n",
            "82 Total de lunas\n",
            "164 Total de lunas\n",
            "191 Total de lunas\n",
            "205 Total de lunas\n",
            "210 Total de lunas\n",
            "212 Total de lunas\n",
            "213 Total de lunas\n",
            "214 Total de lunas\n",
            "17.833333333333332 Es el promedio de lunas que tiene un planeta\n"
          ]
        }
      ],
      "source": [
        "\n",
        "planet_moons = {\n",
        "    'mercury': 0,\n",
        "    'venus': 0,\n",
        "    'earth': 1,\n",
        "    'mars': 2,\n",
        "    'jupiter': 79,\n",
        "    'saturn': 82,\n",
        "    'uranus': 27,\n",
        "    'neptune': 14,\n",
        "    'pluto': 5,\n",
        "    'haumea': 2,\n",
        "    'makemake': 1,\n",
        "    'eris': 1\n",
        "}\n",
        "moons = planet_moons.values()\n",
        "#print(planet_moons.values())\n",
        "planets = len(planet_moons.keys())\n",
        "#print(len(planet_moons.keys()))\n",
        "total_moons = 0\n",
        "for moon in moons:\n",
        "    total_moons = total_moons + moon\n",
        "    print(total_moons, 'Total de lunas')\n",
        "promedio = total_moons / planets\n",
        "print(promedio,'Es el promedio de lunas que tiene un planeta')\n",
        "#for key in planet_moons.keys():\n",
        "#    print(f'{key}:{planet_moons[key]} cm')"
      ]
    }
  ],
  "metadata": {
    "interpreter": {
      "hash": "916dbcbb3f70747c44a77c7bcd40155683ae19c65e1c03b4aa3499c5328201f1"
    },
    "kernelspec": {
      "display_name": "Python 3.8.10 64-bit",
      "name": "python3"
    },
    "language_info": {
      "codemirror_mode": {
        "name": "ipython",
        "version": 3
      },
      "file_extension": ".py",
      "mimetype": "text/x-python",
      "name": "python",
      "nbconvert_exporter": "python",
      "pygments_lexer": "ipython3",
      "version": "3.10.2"
    },
    "nteract": {
      "version": "nteract-front-end@1.0.0"
    },
    "orig_nbformat": 4
  },
  "nbformat": 4,
  "nbformat_minor": 2
}
