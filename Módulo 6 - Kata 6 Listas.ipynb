{
  "cells": [
    {
      "cell_type": "markdown",
      "metadata": {},
      "source": [
        "# Kata 6: Crear y usar listas de Python\n"
      ]
    },
    {
      "cell_type": "code",
      "execution_count": null,
      "metadata": {},
      "outputs": [],
      "source": [
        "# Ejercicio: Usar listas para almacenar nombres de planetas\n",
        "# Las listas permiten almacenar varios valores en una sola variable.\n",
        "# Comenzarás un proyecto sobre información planetaria creando una lista de planetas"
      ]
    },
    {
      "cell_type": "code",
      "execution_count": 7,
      "metadata": {},
      "outputs": [
        {
          "name": "stdout",
          "output_type": "stream",
          "text": [
            "['Mercurio', 'Venus', 'Tierra', 'Marte', 'Jupiter', 'Saturno', 'Urano', 'Neptuno']\n",
            "Agregamos el planeta pluton\n",
            "Los planetas actuales son 9 en el sistema solar\n",
            "['Mercurio', 'Venus', 'Tierra', 'Marte', 'Jupiter', 'Saturno', 'Urano', 'Neptuno', 'Plúton']\n",
            "Plúton es el utlimo planeta\n"
          ]
        }
      ],
      "source": [
        "# Creamos la lista planets y la mostramos\n",
        "planets = ['Mercurio','Venus','Tierra','Marte','Jupiter','Saturno','Urano','Neptuno']\n",
        "print(planets)\n",
        "print('Agregamos el planeta pluton')\n",
        "planets.append('Plúton')\n",
        "number_planets = len(planets)\n",
        "print('Los planetas actuales son',number_planets,'en el sistema solar')\n",
        "print(planets)\n",
        "print(planets[-1], 'es el utlimo planeta')"
      ]
    },
    {
      "cell_type": "code",
      "execution_count": null,
      "metadata": {},
      "outputs": [],
      "source": [
        "# Ejercicio 2: Trabajando con datos de una lista\n",
        "# Usar slices para recuperar partes de una lista\n",
        "# Queremos mostrar planetas más cerca y más lejos del sol de un planeta que el usuario ingresa por teclado."
      ]
    },
    {
      "cell_type": "code",
      "execution_count": 8,
      "metadata": {},
      "outputs": [
        {
          "name": "stdout",
          "output_type": "stream",
          "text": [
            "Los planetas mas cercanos a Tierra\n",
            "['Mercurio', 'Venus']\n",
            "Los planetas mas lejanos del  Tierra\n",
            "['Marte', 'Jupiter', 'Saturno', 'Neptuno']\n"
          ]
        }
      ],
      "source": [
        "# Lista de planetas\n",
        "planets = ['Mercurio', 'Venus', 'Tierra', 'Marte', 'Jupiter', 'Saturno', 'Neptuno']\n",
        "nom_planet = input('Intoduce el nimbre del planeta (Usa una letra mayuscula para comenzar el nombre)')\n",
        "planet_index = planets.index(nom_planet)\n",
        "print('Los planetas mas cercanos a ' + nom_planet)\n",
        "print(planets[0:planet_index])\n",
        "print('Los planetas mas lejanos del  ' + nom_planet)\n",
        "print(planets[planet_index + 1:])"
      ]
    }
  ],
  "metadata": {
    "interpreter": {
      "hash": "b8bdd4e700647ba2b08c59e5df8b7da1dcf50a218bcd4c1bcd9b3dc92e8788e5"
    },
    "kernelspec": {
      "display_name": "Python 3.9.1 64-bit",
      "name": "python3"
    },
    "language_info": {
      "codemirror_mode": {
        "name": "ipython",
        "version": 3
      },
      "file_extension": ".py",
      "mimetype": "text/x-python",
      "name": "python",
      "nbconvert_exporter": "python",
      "pygments_lexer": "ipython3",
      "version": "3.10.2"
    },
    "nteract": {
      "version": "nteract-front-end@1.0.0"
    }
  },
  "nbformat": 4,
  "nbformat_minor": 4
}
