{
 "cells": [
  {
   "cell_type": "markdown",
   "metadata": {},
   "source": [
    "# Modulo 3 - Logica Bolena."
   ]
  },
  {
   "cell_type": "code",
   "execution_count": 8,
   "metadata": {},
   "outputs": [],
   "source": [
    "#Practica 1 -> Ejecutar en notebook\n",
    "a = 97\n",
    "b = 55\n",
    "# test expresion de prueba\n",
    "if a < b:\n",
    "    #Instruccion a ejecutar\n",
    "    print(b)"
   ]
  },
  {
   "cell_type": "code",
   "execution_count": 2,
   "metadata": {},
   "outputs": [
    {
     "name": "stdout",
     "output_type": "stream",
     "text": [
      "93\n"
     ]
    }
   ],
   "source": [
    "#Practica 2\n",
    "#if expresion_prueba:\n",
    "    # intrucción(es) a ejecutar\n",
    "\n",
    "a = 93\n",
    "b = 27\n",
    "if a >= b:\n",
    "    print(a)\n",
    "\n",
    "#Dicho en otras palabras\n",
    "#A la letra 'a' le asigno el valor de 93.\n",
    "#A la letra 'b' le asigno el valor de 27.\n",
    "#SI a(93) es mayor o igual a b(27) entonces:\n",
    "#Muestra (print) el valor de a(93)"
   ]
  },
  {
   "cell_type": "code",
   "execution_count": 6,
   "metadata": {},
   "outputs": [
    {
     "name": "stdout",
     "output_type": "stream",
     "text": [
      "44\n"
     ]
    }
   ],
   "source": [
    "#Practica 1 y 2\n",
    "a = 24\n",
    "b = 44\n",
    "if a <= 0:\n",
    "    print(a)\n",
    "print(b)\n"
   ]
  },
  {
   "cell_type": "markdown",
   "metadata": {},
   "source": []
  },
  {
   "cell_type": "code",
   "execution_count": 15,
   "metadata": {},
   "outputs": [
    {
     "name": "stdout",
     "output_type": "stream",
     "text": [
      "93\n",
      "93 es mayor o igual que 27 \n",
      "93 es igual que 27\n"
     ]
    }
   ],
   "source": [
    "#Trabajaremos else y elif\n",
    "#1ero else\n",
    "\n",
    "a = 93\n",
    "b = 27\n",
    "if a >= b:\n",
    "    print(a)\n",
    "else:\n",
    "    print(b)\n",
    "\n",
    "#if expresion_prueba:\n",
    "    # instrucción(es) a ejecutar\n",
    "#else:\n",
    "    # instrucción(es) a ejecutar\n",
    "\n",
    "#2do Elif\n",
    "#El programa ingresará una instrucción elif solo si la primera instrucción if es False\n",
    "a = 93\n",
    "b = 27\n",
    "if a >= b:\n",
    "    print(\"93 es mayor o igual que 27 \")\n",
    "elif a == b:\n",
    "    print(\"93 es igual que 27\")\n",
    "\n",
    "#La instrucción elif de este bloque de código no se ejecutará, porque la instrucción if es True.\n",
    "#Ahora donde se muestre el elif\n",
    "\n",
    "a = 93\n",
    "b = 93\n",
    "if a > b:\n",
    "    print(\"93 es mayor o igual que 27 \")\n",
    "elif a == b:\n",
    "    print(\"93 es igual que 93\")\n",
    "\n",
    "\n"
   ]
  },
  {
   "cell_type": "code",
   "execution_count": 18,
   "metadata": {},
   "outputs": [
    {
     "name": "stdout",
     "output_type": "stream",
     "text": [
      "a es mayor que b\n"
     ]
    }
   ],
   "source": [
    "#Combinar declaraciones if , elif, y else\n",
    "#También ten en cuenta que un bloque if puede tener solo un bloque else, pero puede tener varios bloques elif.\n",
    "a = 93\n",
    "b = 27\n",
    "if a > b:\n",
    "    print(\"a es mayor que b\")\n",
    "elif a < b:\n",
    "    print(\"a es menor que b\")\n",
    "else: \n",
    "    print (\"a es igual que b\")\n",
    "\n"
   ]
  },
  {
   "cell_type": "code",
   "execution_count": 22,
   "metadata": {},
   "outputs": [
    {
     "name": "stdout",
     "output_type": "stream",
     "text": [
      "a es menor que b\n"
     ]
    }
   ],
   "source": [
    "#Logica Anidada\n",
    "#anidar sentencias if , elif, y else\n",
    "\n",
    "a = 22\n",
    "b = 23\n",
    "c = 27\n",
    "if a > b:\n",
    "    if b > c:\n",
    "        print(\"a es mayor que b y b es mayor que c\")\n",
    "    else:\n",
    "        print(\"a es mayor que b y menor que c\")\n",
    "elif a == b:\n",
    "    print(\"a es igual que b\")\n",
    "else:\n",
    "    print(\"a es menor que b\")"
   ]
  },
  {
   "cell_type": "code",
   "execution_count": 24,
   "metadata": {},
   "outputs": [
    {
     "name": "stdout",
     "output_type": "stream",
     "text": [
      "57\n"
     ]
    }
   ],
   "source": [
    "#Operador or\n",
    "#conectar dos expresiones booleanas\n",
    "#Al menos una de las sub expresiones debe de ser verdera\n",
    "\n",
    "a = 23\n",
    "b = 34\n",
    "\n",
    "if a  == 34 or b == 34:\n",
    "    print(a + b)\n",
    "\n",
    "#Operador and\n",
    "#conectar dos expresiones booleanas\n",
    "#Las dos sub expresiones debe de ser verderas\n",
    "\n",
    "a = 23\n",
    "b = 34\n",
    "if a == 34 and b == 34:\n",
    "    print(a + b)\n",
    "    \n"
   ]
  }
 ],
 "metadata": {
  "interpreter": {
   "hash": "94dfd0829861ea723591b3001b7b8d6efd29c21741fffd6b6a162c01382c010b"
  },
  "kernelspec": {
   "display_name": "Python 3.10.2 64-bit",
   "language": "python",
   "name": "python3"
  },
  "language_info": {
   "codemirror_mode": {
    "name": "ipython",
    "version": 3
   },
   "file_extension": ".py",
   "mimetype": "text/x-python",
   "name": "python",
   "nbconvert_exporter": "python",
   "pygments_lexer": "ipython3",
   "version": "3.10.2"
  },
  "orig_nbformat": 4
 },
 "nbformat": 4,
 "nbformat_minor": 2
}
