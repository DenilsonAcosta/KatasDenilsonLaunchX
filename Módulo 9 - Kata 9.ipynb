{
  "cells": [
    {
      "cell_type": "markdown",
      "metadata": {},
      "source": [
        "# Kata 9 : Uso de funciones en Python"
      ]
    },
    {
      "cell_type": "markdown",
      "metadata": {},
      "source": [
        "### Ejercicio 1: Trabajar con argumentos en funciones\n",
        "\n",
        "\n"
      ]
    },
    {
      "cell_type": "code",
      "execution_count": null,
      "metadata": {},
      "outputs": [],
      "source": [
        "# Construirás un informe de combustible que requiere información de varias ubicaciones de combustible en todo el cohete.\n",
        "# Ahora que hemos definido la función de informes, vamos a comprobarlo. Para esta misión, los tanques no están llenos:\n",
        "# La función también está calculando el promedio. Mejora la legibilidad extrayendo el cálculo promedio de la función en\n",
        "# una nueva función para que el promedio se pueda hacer de forma independiente\n",
        "# Ahora actualiza la función de informes para llamando a la nueva función del promedio:"
      ]
    },
    {
      "cell_type": "code",
      "execution_count": 7,
      "metadata": {},
      "outputs": [
        {
          "name": "stdout",
          "output_type": "stream",
          "text": [
            "Promedio de tanque es: 78.33333333333333\n",
            "Reporte de combustible:\n",
            "    Promedio de combustible: 78.33333333333333%\n",
            "    Tanque 1 : 80%\n",
            "    Tanque 2: 70%\n",
            "    Tanque 3: 85% \n",
            "    \n",
            "El calculo del promedio 82.0\n",
            "Reporte de combustible:\n",
            "    Promedio de combustible: 78.0%\n",
            "    Tanque 1: 88%\n",
            "    Tanque 2: 76%\n",
            "    Tanque 3: 70% \n",
            "    \n"
          ]
        }
      ],
      "source": [
        "# Función para leer 3 tanques de combustible y muestre el promedio\n",
        "def generate_report(tanque1, tanque2, tanque3):\n",
        "    total_average = (tanque1 + tanque2 + tanque3) / 3\n",
        "    #print('Promedio de tanque es:',total_average)\n",
        "    return f\"\"\"Reporte de combustible:\n",
        "    Promedio de combustible: {total_average}%\n",
        "    Tanque 1 : {tanque1}%\n",
        "    Tanque 2: {tanque2}%\n",
        "    Tanque 3: {tanque3}% \n",
        "    \"\"\"\n",
        "print(generate_report(80, 70, 85))\n",
        "\n",
        "#Actualizamos funcion\n",
        "def average(values):\n",
        "    total = sum(values)\n",
        "    numberObjetos = len(values)\n",
        "    return total / numberObjetos\n",
        "print('El calculo del promedio', average([80, 85, 81])) \n",
        "\n",
        "def generate_report(tanque1, tanque2, tanque3):\n",
        "    return f\"\"\"Reporte de combustible:\n",
        "    Promedio de combustible: {average([tanque1, tanque2, tanque3])}%\n",
        "    Tanque 1: {tanque1}%\n",
        "    Tanque 2: {tanque2}%\n",
        "    Tanque 3: {tanque3}% \n",
        "    \"\"\"\n",
        "print(generate_report(88, 76, 70))"
      ]
    },
    {
      "cell_type": "markdown",
      "metadata": {},
      "source": [
        "## Ejercicio 2: Trabajo con argumentos de palabra clave"
      ]
    },
    {
      "cell_type": "code",
      "execution_count": null,
      "metadata": {},
      "outputs": [],
      "source": [
        "# Comienza por crear una función que creará un informe preciso de la misión\n",
        "# Función con un informe preciso de la misión. Considera hora de prelanzamiento, tiempo de vuelo, destino, \n",
        "# tanque externo y tanque interno\n",
        "# usar `*args` y `**kwargs`, aprovecha el hecho de que puedes usar cualquier nombre que desees.\n",
        "# Asegurate que la función sea más legible mediante el uso de nombres de variables que están asociados con las entradas, \n",
        "# como `*minutes` y `**fuel_reservoirs`:\n"
      ]
    },
    {
      "cell_type": "code",
      "execution_count": 6,
      "metadata": {},
      "outputs": [
        {
          "name": "stdout",
          "output_type": "stream",
          "text": [
            "\n",
            "    Mision a Luna\n",
            "    Tiempo de vuelo: 65 minutos\n",
            "    Total de combustible: 500000 galones\n",
            "    \n",
            "\n",
            "    Mision a Luna\n",
            "    Tiempo de viaje: 76 minutos\n",
            "    Total de combustible: 500000\n",
            "    \n",
            "\n",
            "    Mision a Luna\n",
            "    Tiempo de vuelo: 74 minutos\n",
            "    Total de combustible: 500000\n",
            "    interno tanque --> 300000 galones \n",
            "externo tanque --> 200000 galones \n",
            "\n"
          ]
        }
      ],
      "source": [
        "\n",
        "def informe_mision(pre_lanzamiento, tiempo_vuelo, destino, tanque_externo, tanque_interno):\n",
        "    return f\"\"\"\n",
        "    Mision a {destino}\n",
        "    Tiempo de vuelo: {pre_lanzamiento + tiempo_vuelo} minutos\n",
        "    Total de combustible: {tanque_externo + tanque_interno} galones\n",
        "    \"\"\"\n",
        "\n",
        "print(informe_mision(14, 51, \"Luna\", 200000, 300000))\n",
        "\n",
        "def informe_mision(destino, *minutos, **combustible):\n",
        "    return f\"\"\"\n",
        "    Mision a {destino}\n",
        "    Tiempo de viaje: {sum(minutos)} minutos\n",
        "    Total de combustible: {sum(combustible.values())}\n",
        "    \"\"\"\n",
        "\n",
        "print(informe_mision(\"Luna\", 10, 15, 51, interno=300000, externo=200000))\n",
        "\n",
        "def informe_mision(destino, *minutos, **combustible):\n",
        "    reporte = f\"\"\"\n",
        "    Mision a {destino}\n",
        "    Tiempo de vuelo: {sum(minutos)} minutos\n",
        "    Total de combustible: {sum(combustible.values())}\n",
        "    \"\"\"\n",
        "    for tanque, galon in combustible.items():\n",
        "        reporte += f\"{tanque} tanque --> {galon} galones \\n\"\n",
        "    return reporte\n",
        "\n",
        "print(informe_mision(\"Luna\", 8, 11, 55, interno=300000, externo=200000))"
      ]
    }
  ],
  "metadata": {
    "interpreter": {
      "hash": "205095b8b86ea82a021a8fc2ffba2b3bc9f8d0be25999901963b225939f75778"
    },
    "kernelspec": {
      "display_name": "Python 3.8.10 64-bit ('tmp': conda)",
      "name": "python3"
    },
    "language_info": {
      "codemirror_mode": {
        "name": "ipython",
        "version": 3
      },
      "file_extension": ".py",
      "mimetype": "text/x-python",
      "name": "python",
      "nbconvert_exporter": "python",
      "pygments_lexer": "ipython3",
      "version": "3.10.2"
    },
    "nteract": {
      "version": "nteract-front-end@1.0.0"
    },
    "orig_nbformat": 4
  },
  "nbformat": 4,
  "nbformat_minor": 2
}
