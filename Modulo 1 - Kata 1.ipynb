{
 "cells": [
  {
   "cell_type": "code",
   "execution_count": 37,
   "metadata": {},
   "outputs": [],
   "source": [
    "# Impresión en pantalla print('Hola desde la consola')"
   ]
  },
  {
   "cell_type": "markdown",
   "metadata": {},
   "source": [
    "# Modulo 1 - Primeros Pasos "
   ]
  },
  {
   "cell_type": "code",
   "execution_count": 38,
   "metadata": {},
   "outputs": [
    {
     "name": "stdout",
     "output_type": "stream",
     "text": [
      "Hola Moundo, Cinthya <3\n",
      "15\n",
      "2022-02-10\n",
      "Toda´s is date:2022-02-10\n",
      "Bienvenido a Launch X ¿Cual es su nombre?\n",
      "Bienvenido Cinthya\n",
      "Calculadora\n",
      "4656\n"
     ]
    }
   ],
   "source": [
    "print('Hola Moundo, Cinthya <3')\n",
    "\n",
    "sum = 1 + 2 #3\n",
    "producto = sum * 5\n",
    "print(producto) \n",
    "\n",
    "#Declaración de variables\n",
    "#Distancia_a_la_facualtad = 11.23 \n",
    "#Tipo de dato\n",
    "#type(Distancia_a_la_facultad)\n",
    "\n",
    "from datetime import date\n",
    "date.today()\n",
    "\n",
    "print(date.today())\n",
    "\n",
    "# Importamos la biblioteca \n",
    "#from datetime import date\n",
    "\n",
    "# Obtenemos la fecha de hoy\n",
    "#date.today()\n",
    "\n",
    "# Mostramos la fecha en la consola\n",
    "#print(date.today())\n",
    "\n",
    "#Ahora si queremos colocar la fecha en una cadena no se puede ya que usando un operador y una strin por lo cual\n",
    "#Debemos de hacer una conversion de tipo de datos.\n",
    "\n",
    "#print (\"Toda´s date is:\" + date.today()) -> Manera incorrecta\n",
    "#Para evitar el error en el codigo utilizaremos str()\n",
    "\n",
    "print(\"Toda´s is date:\" + str(date.today()))\n",
    "\n",
    "#Entradas\n",
    "print(\"Bienvenido a Launch X ¿Cual es su nombre?\")\n",
    "name= input(\"Introduzca su nombre\")\n",
    "print(\"Bienvenido \" + name)\n",
    "\n",
    "print(\"Calculadora\")\n",
    "first_number = input (\"Primer numero\")\n",
    "second_number = input (\"Segundo numero\")\n",
    "#suma = first_number + second_number #Si dejamos esta parte la consola lo tomara como cadenas de teexto por lo cual de usaremos int\n",
    "suma = int(first_number) + int(second_number) #Manera Correcta \n",
    "print (suma)\n",
    "\n",
    "\n",
    "\n"
   ]
  },
  {
   "cell_type": "markdown",
   "metadata": {},
   "source": [
    "# Kata 2 - Mi primer Programa"
   ]
  },
  {
   "cell_type": "code",
   "execution_count": 39,
   "metadata": {},
   "outputs": [
    {
     "name": "stdout",
     "output_type": "stream",
     "text": [
      "El dia de hoy es:2022-02-10\n"
     ]
    }
   ],
   "source": [
    "from datetime import date\n",
    "date.today()\n",
    "print(\"El dia de hoy es:\" + str(date.today()))\n"
   ]
  },
  {
   "cell_type": "code",
   "execution_count": 40,
   "metadata": {},
   "outputs": [
    {
     "name": "stdout",
     "output_type": "stream",
     "text": [
      "11 parsec, is 3.26156 lightyears\n"
     ]
    }
   ],
   "source": [
    "#El oficial superior> \"Necesito una cosa más: un programa de conversión entre parsecs y años luz. \n",
    "#Tener un programa de este tipo podría ser realmente útil en el puente para trazar nuestro curso\".\n",
    "#Tú> \"¡Lo haré!\"\n",
    "\n",
    "parsec = 11\n",
    "años_luz = 3.26156\n",
    "\n",
    "print(str(parsec) + \" parsec, is \" + str(años_luz) + \" años luz\")\n",
    "#Usamos str para conversión de datos"
   ]
  }
 ],
 "metadata": {
  "interpreter": {
   "hash": "94dfd0829861ea723591b3001b7b8d6efd29c21741fffd6b6a162c01382c010b"
  },
  "kernelspec": {
   "display_name": "Python 3.10.2 64-bit",
   "language": "python",
   "name": "python3"
  },
  "language_info": {
   "codemirror_mode": {
    "name": "ipython",
    "version": 3
   },
   "file_extension": ".py",
   "mimetype": "text/x-python",
   "name": "python",
   "nbconvert_exporter": "python",
   "pygments_lexer": "ipython3",
   "version": "3.10.2"
  },
  "orig_nbformat": 4
 },
 "nbformat": 4,
 "nbformat_minor": 2
}
