{
  "cells": [
    {
      "cell_type": "markdown",
      "metadata": {},
      "source": [
        "# Kata 10 : Manejo de errores"
      ]
    },
    {
      "cell_type": "code",
      "execution_count": 13,
      "metadata": {},
      "outputs": [
        {
          "name": "stderr",
          "output_type": "stream",
          "text": [
            "Traceback (most recent call last):\n",
            "  File \"c:\\Users\\LENOVO\\Desktop\\PythonInnovaccion -  Katas\\open.py\", line 5, in <module>\n",
            "    main()\n",
            "  File \"c:\\Users\\LENOVO\\Desktop\\PythonInnovaccion -  Katas\\open.py\", line 2, in main\n",
            "    open(\"/path/to/mars.jpg\")\n",
            "FileNotFoundError: [Errno 2] No such file or directory: '/path/to/mars.jpg'\n"
          ]
        }
      ],
      "source": [
        "# open(\"/path/to/mars.jpg\")\n",
        "! python3 open.py\n"
      ]
    },
    {
      "cell_type": "code",
      "execution_count": 15,
      "metadata": {},
      "outputs": [
        {
          "name": "stdout",
          "output_type": "stream",
          "text": [
            "Couldn't find the config.txt file!\n"
          ]
        }
      ],
      "source": [
        "#open('config.txt')\n",
        "try:\n",
        "    open('config.txt')\n",
        "except FileNotFoundError:\n",
        "    print(\"Couldn't find the config.txt file!\")\n",
        "\n",
        "#Couldn't find the config.txt file!"
      ]
    },
    {
      "cell_type": "code",
      "execution_count": 23,
      "metadata": {},
      "outputs": [
        {
          "name": "stderr",
          "output_type": "stream",
          "text": [
            "Traceback (most recent call last):\n",
            "  File \"c:\\Users\\LENOVO\\Desktop\\PythonInnovaccion -  Katas\\config.py\", line 9, in <module>\n",
            "    main()\n",
            "  File \"c:\\Users\\LENOVO\\Desktop\\PythonInnovaccion -  Katas\\config.py\", line 3, in main\n",
            "    configuration = open('config.txt')\n",
            "PermissionError: [Errno 13] Permission denied: 'config.txt'\n"
          ]
        }
      ],
      "source": [
        "! python config.py"
      ]
    },
    {
      "cell_type": "code",
      "execution_count": 37,
      "metadata": {},
      "outputs": [
        {
          "name": "stderr",
          "output_type": "stream",
          "text": [
            "Traceback (most recent call last):\n",
            "  File \"c:\\Users\\LENOVO\\Desktop\\PythonInnovaccion -  Katas\\config.py\", line 9, in <module>\n",
            "    main()\n",
            "  File \"c:\\Users\\LENOVO\\Desktop\\PythonInnovaccion -  Katas\\config.py\", line 3, in main\n",
            "    configuration = open('config.txt')\n",
            "PermissionError: [Errno 13] Permission denied: 'config.txt'\n"
          ]
        }
      ],
      "source": [
        "def main():\n",
        "    try:\n",
        "        configuration = open('config.txt')\n",
        "    except Exception:\n",
        "        print(\"Couldn't find the config.txt file!\")\n",
        "\n",
        "! python config.py"
      ]
    },
    {
      "cell_type": "code",
      "execution_count": 31,
      "metadata": {},
      "outputs": [],
      "source": [
        "def main():\n",
        "    try:\n",
        "        configuration = open('config.txt')\n",
        "    except FileNotFoundError:\n",
        "        print(\"Couldn't find the config.txt file!\")\n",
        "    except IsADirectoryError:\n",
        "        print(\"Found config.txt but it is a directory, couldn't read it\")"
      ]
    },
    {
      "cell_type": "code",
      "execution_count": 36,
      "metadata": {},
      "outputs": [
        {
          "name": "stderr",
          "output_type": "stream",
          "text": [
            "\"rm\" no se reconoce como un comando interno o externo,\n",
            "programa o archivo por lotes ejecutable.\n",
            "Traceback (most recent call last):\n",
            "  File \"c:\\Users\\LENOVO\\Desktop\\PythonInnovaccion -  Katas\\config.py\", line 9, in <module>\n",
            "    main()\n",
            "  File \"c:\\Users\\LENOVO\\Desktop\\PythonInnovaccion -  Katas\\config.py\", line 3, in main\n",
            "    configuration = open('config.txt')\n",
            "PermissionError: [Errno 13] Permission denied: 'config.txt'\n"
          ]
        }
      ],
      "source": [
        "! rm -f config.txt\n",
        "! python config.py"
      ]
    },
    {
      "cell_type": "code",
      "execution_count": 33,
      "metadata": {},
      "outputs": [],
      "source": [
        "def main():\n",
        "    try:\n",
        "        configuration = open('config.txt')\n",
        "    except FileNotFoundError:\n",
        "        print(\"Couldn't find the config.txt file!\")\n",
        "    except IsADirectoryError:\n",
        "        print(\"Found config.txt but it is a directory, couldn't read it\")\n",
        "    except (BlockingIOError, TimeoutError):\n",
        "        print(\"Filesystem under heavy load, can't complete reading configuration file\")"
      ]
    },
    {
      "cell_type": "code",
      "execution_count": 34,
      "metadata": {},
      "outputs": [
        {
          "name": "stdout",
          "output_type": "stream",
          "text": [
            "got a problem trying to read the file: [Errno 2] No such file or directory: 'mars.jpg'\n"
          ]
        }
      ],
      "source": [
        "try:\n",
        "  open(\"mars.jpg\")\n",
        "except FileNotFoundError as err:\n",
        "     print(\"got a problem trying to read the file:\", err)"
      ]
    },
    {
      "cell_type": "code",
      "execution_count": 35,
      "metadata": {},
      "outputs": [
        {
          "name": "stdout",
          "output_type": "stream",
          "text": [
            "Found config.txt but couldn't read it\n"
          ]
        }
      ],
      "source": [
        "try:\n",
        "     open(\"config.txt\")\n",
        "except OSError as err:\n",
        "     if err.errno == 2:\n",
        "         print(\"Couldn't find the config.txt file!\")\n",
        "     elif err.errno == 13:\n",
        "         print(\"Found config.txt but couldn't read it\")"
      ]
    },
    {
      "cell_type": "markdown",
      "metadata": {},
      "source": [
        "# Generación de excepciones"
      ]
    },
    {
      "cell_type": "code",
      "execution_count": 40,
      "metadata": {},
      "outputs": [],
      "source": [
        "def water_left(astronauts, water_left, days_left):\n",
        "    daily_usage = astronauts * 11\n",
        "    total_usage = daily_usage * days_left\n",
        "    total_water_left = water_left - total_usage\n",
        "    return f\"Total water left after {days_left} days is: {total_water_left} liters\"\n",
        "    water_left(5, 100, 2)\n",
        "\n",
        "def water_left(astronauts, water_left, days_left):\n",
        "    daily_usage = astronauts * 11\n",
        "    total_usage = daily_usage * days_left\n",
        "    total_water_left = water_left - total_usage\n",
        "    if total_water_left < 0:\n",
        "        raise RuntimeError(f\"There is not enough water for {astronauts} astronauts after {days_left} days!\")\n",
        "    return f\"Total water left after {days_left} days is: {total_water_left} liters\"\n",
        "    water_left(5, 100, 2)\n",
        "try:\n",
        "    water_left(5, 100, 2)\n",
        "except RuntimeError as err:\n",
        "    alert_navigation_system(err)\n",
        "water_left(\"3\", \"200\", None)\n",
        "\n",
        "def water_left(astronauts, water_left, days_left):\n",
        "    for argument in [astronauts, water_left, days_left]:\n",
        "        try:\n",
        "            # If argument is an int, the following operation will work\n",
        "            argument / 10\n",
        "        except TypeError:\n",
        "            # TypError will be raised only if it isn't the right type \n",
        "            # Raise the same exception but with a better error message\n",
        "            raise TypeError(f\"All arguments must be of type int, but received: '{argument}'\")\n",
        "    daily_usage = astronauts * 11\n",
        "    total_usage = daily_usage * days_left\n",
        "    total_water_left = water_left - total_usage\n",
        "    if total_water_left < 0:\n",
        "        raise RuntimeError(f\"There is not enough water for {astronauts} astronauts after {days_left} days!\")\n",
        "    return f\"Total water left after {days_left} days is: {total_water_left} liters\"\n",
        "water_left(\"3\", \"200\", None)"
      ]
    }
  ],
  "metadata": {
    "interpreter": {
      "hash": "205095b8b86ea82a021a8fc2ffba2b3bc9f8d0be25999901963b225939f75778"
    },
    "kernelspec": {
      "display_name": "Python 3.8.10 64-bit ('tmp': conda)",
      "name": "python3"
    },
    "language_info": {
      "codemirror_mode": {
        "name": "ipython",
        "version": 3
      },
      "file_extension": ".py",
      "mimetype": "text/x-python",
      "name": "python",
      "nbconvert_exporter": "python",
      "pygments_lexer": "ipython3",
      "version": "3.10.2"
    },
    "nteract": {
      "version": "nteract-front-end@1.0.0"
    },
    "orig_nbformat": 4
  },
  "nbformat": 4,
  "nbformat_minor": 2
}
